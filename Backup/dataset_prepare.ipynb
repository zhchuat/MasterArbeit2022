{
 "cells": [
  {
   "cell_type": "markdown",
   "metadata": {},
   "source": [
    "NYU Datasets Inhalt: https://cs.nyu.edu/~silberman/datasets/nyu_depth_v2.html\n",
    "(teilweise benutzt)\n",
    "\n",
    "1. depths – HxWxN matrix of in-painted depth maps where H and W are the height and width, respectively and N is the number of images. The values of the depth elements are in meters.\n",
    "\n",
    "2. images – HxWx3xN matrix of RGB images where H and W are the height and width, respectively, and N is the number of images.\n",
    "\n",
    "3. labels – HxWxN matrix of object label masks where H and W are the height and width, respectively and N is the number of images. The labels range from 1..C where C is the total number of classes. If a pixel’s label value is 0, then that pixel is ‘unlabeled’.\n",
    "\n",
    "4. names – Cx1 cell array of the english names of each class."
   ]
  },
  {
   "cell_type": "code",
   "execution_count": 1,
   "metadata": {},
   "outputs": [
    {
     "name": "stdout",
     "output_type": "stream",
     "text": [
      "#refs#\n",
      "#subsystem#\n",
      "accelData\n",
      "depths\n",
      "images\n",
      "instances\n",
      "labels\n",
      "names\n",
      "namesToIds\n",
      "rawDepthFilenames\n",
      "rawDepths\n",
      "rawRgbFilenames\n",
      "sceneTypes\n",
      "scenes\n"
     ]
    }
   ],
   "source": [
    "from nis import match\n",
    "import numpy as np\n",
    "import matplotlib.pyplot as plt\n",
    "import scipy.io as sio\n",
    "#from scipy.io import loadmat\n",
    "import h5py\n",
    "import os \n",
    "\n",
    "#Datasets lesen\n",
    "mat=h5py.File(\"./nyu_depth_v2_labeled.mat\",'r') # read-only\n",
    "\n",
    "#alle Spalte anzeigen\n",
    "#print (mat.keys())\n",
    "for spalte in mat.keys():\n",
    "    print (spalte)\n",
    "\n"
   ]
  },
  {
   "cell_type": "code",
   "execution_count": 2,
   "metadata": {},
   "outputs": [
    {
     "name": "stdout",
     "output_type": "stream",
     "text": [
      "----type----\n",
      "<class 'numpy.ndarray'>\n",
      "----shape----\n",
      "(1159, 640, 480)\n"
     ]
    }
   ],
   "source": [
    "rgbd = '../RGBD.npy'\n",
    "loadData_RGBD=np.load(rgbd)\n",
    "label = '../labels.npy'\n",
    "loadData_labels=np.load(label)\n",
    "#f308 =np.load('../NYU-Depth_V2/training/labels/308.npy')\n",
    "print(\"----type----\")\n",
    "print(type(loadData_RGBD))\n",
    "print(\"----shape----\")\n",
    "print(loadData_labels.shape)\n",
    "\n"
   ]
  },
  {
   "cell_type": "code",
   "execution_count": null,
   "metadata": {},
   "outputs": [],
   "source": [
    "img=np.transpose(loadData_RGBD[0,1,3,2])\n",
    "plt.imshow(loadData_RGBD[1,3,:,:])\n",
    "\n",
    "plt.show(img)"
   ]
  },
  {
   "cell_type": "code",
   "execution_count": null,
   "metadata": {},
   "outputs": [],
   "source": [
    "#make a file\n",
    "\n",
    "#if not os.path.isdir(\"./names.txt\"):\n",
    "#    os.makedirs(\"./names.txt\")\n",
    "\n",
    "#name file erzeugen mit Schreibrechte\n",
    "# \n",
    "\n",
    "\n",
    "txt = open('names.txt', 'w+')\n",
    "name = mat[\"names\"]\n",
    "#save_path = \"./\"\n",
    "#np.savetxt(save_path,name,fmt='%s')\n",
    "print(type(name)) #打印查看类别个数，共894类\n",
    "\n",
    "for i in range(894) :\n",
    "    b=name[[0],i]\n",
    "    strr = b.join(chr(i) for i in b[:])\n",
    "    txt.write(strr + '/n')\n",
    "         \n",
    "    \n",
    "# for j in range (894):\n",
    "#     name = mat[\"names\"][0][j]\n",
    "#     obj = mat[name]\n",
    "#     strr = \"\".join(chr(i) for i in obj[:])\n",
    "#     ft.write(strr + '\\n')\n",
    " \n",
    "txt.close()\n"
   ]
  },
  {
   "cell_type": "code",
   "execution_count": null,
   "metadata": {},
   "outputs": [],
   "source": [
    "# RGB-Bilder aus Datasaezen herausnehmen \n",
    "RGBimages=mat[\"images\"]\n",
    "RGBimages=np.array(RGBimages)\n",
    "#Folder erzeugen \n",
    "convert2path='./nyu_images'\n",
    "if not os.path.isdir(convert2path):\n",
    "    os.makedirs(convert2path)\n",
    " \n",
    "from PIL import Image\n",
    "images_number=[]\n",
    "for i in range(len(RGBimages)):\n",
    "    images_number.append(RGBimages[i])\n",
    "    a=np.array(images_number[i])\n",
    "    r = Image.fromarray(a[0]).convert('L')\n",
    "    g = Image.fromarray(a[1]).convert('L')\n",
    "    b = Image.fromarray(a[2]).convert('L')\n",
    "    img = Image.merge(\"RGB\", (r, g, b))\n",
    "    img = img.transpose(Image.ROTATE_270) #Bilder 270 grad rotiert \n",
    "    rgb_path=convert2path+str(i)+'.jpg'\n",
    "    img.save(rgb_path,optimize=True)"
   ]
  },
  {
   "cell_type": "code",
   "execution_count": null,
   "metadata": {},
   "outputs": [],
   "source": [
    "# Tiefenbilder aus Datasaezen herausnehmen \n",
    "depths=mat[\"depths\"]\n",
    "depths=np.array(depths)\n",
    "#Folder erzeugen\n",
    "convert2path='./nyu_depths/'\n",
    "if not os.path.isdir(convert2path):\n",
    "    os.makedirs(convert2path)\n",
    " \n",
    "max = depths.max()\n",
    "print(depths.shape)\n",
    "print(depths.max())\n",
    "print(depths.min())\n",
    " \n",
    "depths = depths / max * 255\n",
    "depths = depths.transpose((0,2,1))\n",
    " \n",
    "print(depths.max())\n",
    "print(depths.min())\n",
    " \n",
    "for i in range(len(depths)):\n",
    "    print(str(i) + '.png')\n",
    "    depths_img= Image.fromarray(np.uint8(depths[i]))\n",
    "    depths_img = depths_img.transpose(Image.FLIP_LEFT_RIGHT)\n",
    "    iconpath=convert2path + str(i)+'.png'\n",
    "    depths_img.save(iconpath, 'PNG', optimize=True)"
   ]
  },
  {
   "cell_type": "code",
   "execution_count": null,
   "metadata": {},
   "outputs": [],
   "source": [
    "# Labels aus Datasaezen herausnehmen \n",
    "labels=mat[\"labels\"]\n",
    "labels=np.array(labels)\n",
    " \n",
    "convert2path='./nyu_labels/'\n",
    "if not os.path.isdir(convert2path):\n",
    "    os.makedirs(convert2path)\n",
    " \n",
    "labels_number = []\n",
    "for i in range(len(labels)):\n",
    "    labels_number.append(labels[i])\n",
    "    labels_0 = np.array(labels_number[i])\n",
    "    label_img = Image.fromarray(np.uint8(labels_number[i]))\n",
    "    label_img = label_img.transpose(Image.ROTATE_270)\n",
    " \n",
    "    iconpath = convert2path + str(i) + '.png'\n",
    "    label_img.save(iconpath, 'PNG', optimize=True)"
   ]
  },
  {
   "cell_type": "code",
   "execution_count": null,
   "metadata": {},
   "outputs": [],
   "source": [
    "ft = open('names.txt', 'w+')\n",
    "print(mat[\"names\"].shape) #打印查看类别个数，共894类\n",
    "for j in range (894):\n",
    "    name = mat[\"names\"][0][j]\n",
    "    obj = mat[name]\n",
    "    strr = \"\".join(chr(i) for i in obj[:])\n",
    "    ft.write(strr + '\\n')\n",
    " \n",
    "ft.close()"
   ]
  }
 ],
 "metadata": {
  "kernelspec": {
   "display_name": "Python 3.9.13 64-bit ('env_pytorch')",
   "language": "python",
   "name": "python3"
  },
  "language_info": {
   "codemirror_mode": {
    "name": "ipython",
    "version": 3
   },
   "file_extension": ".py",
   "mimetype": "text/x-python",
   "name": "python",
   "nbconvert_exporter": "python",
   "pygments_lexer": "ipython3",
   "version": "3.9.13"
  },
  "orig_nbformat": 4,
  "vscode": {
   "interpreter": {
    "hash": "e748adc6304962d8de268f91f34f123faf84dda34a236ae28e313c5dd3cf4e41"
   }
  }
 },
 "nbformat": 4,
 "nbformat_minor": 2
}
